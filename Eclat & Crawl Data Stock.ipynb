{
  "nbformat": 4,
  "nbformat_minor": 0,
  "metadata": {
    "colab": {
      "name": "51900771-51800850-51800855.ipynb",
      "provenance": []
    },
    "kernelspec": {
      "name": "python3",
      "display_name": "Python 3"
    },
    "language_info": {
      "name": "python"
    }
  },
  "cells": [
    {
      "cell_type": "markdown",
      "metadata": {
        "id": "Ubh5ArY07O91"
      },
      "source": [
        "# **Đại học Tôn Đức Thắng**\n",
        "Khoa Công nghệ thông tin\n",
        "KHAI THÁC DỮ LIỆU VÀ KHAI PHÁ TRI THỨC - 505043\n",
        "---\n",
        "    Thành viên:\n",
        "      Nguyễn Sang Sinh - 51900771\n",
        "      Trần Hoàng Đăng - 51800850\n",
        "      Võ Thị Kiều Viễn Đông - 51800855"
      ]
    },
    {
      "cell_type": "markdown",
      "metadata": {
        "id": "ZrlPJlmD-p6X"
      },
      "source": [
        "## **1. The Eclat alogrithm**"
      ]
    },
    {
      "cell_type": "markdown",
      "metadata": {
        "id": "-f5FDQPf-30T"
      },
      "source": [
        "### Connect Google Drive & Import Libs"
      ]
    },
    {
      "cell_type": "code",
      "metadata": {
        "id": "evvPNijk_T7I"
      },
      "source": [
        "from google.colab import drive\n",
        "import numpy as np\n",
        "import pandas as pd\n",
        "import requests\n",
        "from bs4 import BeautifulSoup\n",
        "import csv\n",
        "import os\n",
        "import matplotlib.pyplot as plt"
      ],
      "execution_count": null,
      "outputs": []
    },
    {
      "cell_type": "code",
      "metadata": {
        "id": "l4rz4khB_bo3"
      },
      "source": [
        "drive.mount ('/content/drive')"
      ],
      "execution_count": null,
      "outputs": []
    },
    {
      "cell_type": "code",
      "metadata": {
        "id": "7Rz1_uzs_ddA"
      },
      "source": [
        "cd /content/drive/MyDrive/Massive Dataset Mining/Data"
      ],
      "execution_count": null,
      "outputs": []
    },
    {
      "cell_type": "markdown",
      "metadata": {
        "id": "jUbHI5fu_gpy"
      },
      "source": [
        "### Load Data"
      ]
    },
    {
      "cell_type": "code",
      "metadata": {
        "id": "Vs-Feb25_jmb"
      },
      "source": [
        "data = pd.read_csv('store_data.csv', header=None)"
      ],
      "execution_count": null,
      "outputs": []
    },
    {
      "cell_type": "code",
      "metadata": {
        "id": "ChwQ_vu3_kFT"
      },
      "source": [
        "data.head()"
      ],
      "execution_count": null,
      "outputs": []
    },
    {
      "cell_type": "code",
      "metadata": {
        "id": "_OZjr8-z_nBQ"
      },
      "source": [
        "#Get data values to Eclat \n",
        "#Get first 1000 values\n",
        "data_test = data.values[500:600]"
      ],
      "execution_count": null,
      "outputs": []
    },
    {
      "cell_type": "code",
      "metadata": {
        "id": "2RRREEXT_ohG"
      },
      "source": [
        "#Data shape\n",
        "data_test.shape"
      ],
      "execution_count": null,
      "outputs": []
    },
    {
      "cell_type": "markdown",
      "metadata": {
        "id": "3RkSAOco_sEJ"
      },
      "source": [
        "### Data Processing for Eclat"
      ]
    },
    {
      "cell_type": "code",
      "metadata": {
        "id": "NYTwhol__qri"
      },
      "source": [
        "#Remove NaN data & Convert values to Array\n",
        "result = []\n",
        "temp = []\n",
        "for i in range(data_test.shape[0]):\n",
        "  for j in range(data_test.shape[1]):\n",
        "    if str(data_test[i,j]) != 'nan':\n",
        "      temp.append(str(data_test[i,j]))\n",
        "  result.append(temp)\n",
        "  temp = []"
      ],
      "execution_count": null,
      "outputs": []
    },
    {
      "cell_type": "code",
      "metadata": {
        "id": "Kde5FNrF_vWD"
      },
      "source": [
        "#Get P 1-itemsets\n",
        "P = {}\n",
        "count_tid = 0\n",
        "for trans in result:\n",
        "  for item in trans:\n",
        "    if item in P:\n",
        "      P[item].append(count_tid) \n",
        "    else:\n",
        "      P[item] = [count_tid]\n",
        "  count_tid+=1"
      ],
      "execution_count": null,
      "outputs": []
    },
    {
      "cell_type": "code",
      "metadata": {
        "id": "spYipzvH_vq7"
      },
      "source": [
        "#Print 10 itemset first\n",
        "count = 0\n",
        "for itemset in P.items():\n",
        "  if (count < 10):\n",
        "    print(itemset)\n",
        "    count += 1\n",
        "  else:\n",
        "    break"
      ],
      "execution_count": null,
      "outputs": []
    },
    {
      "cell_type": "code",
      "metadata": {
        "id": "XtrkbQTQ_xTr"
      },
      "source": [
        "#Filtering itemset < minsup\n",
        "minsup = 3\n",
        "for key, value in list(P.items()):\n",
        "  if (len(value) < minsup):\n",
        "    del P[key]"
      ],
      "execution_count": null,
      "outputs": []
    },
    {
      "cell_type": "code",
      "metadata": {
        "id": "QWHoHYPo_z6Q"
      },
      "source": [
        "#Print itemset after filtering\n",
        "P.items()"
      ],
      "execution_count": null,
      "outputs": []
    },
    {
      "cell_type": "markdown",
      "metadata": {
        "id": "XAEzQSgN_8nr"
      },
      "source": [
        "### Eclat Algorithm"
      ]
    },
    {
      "cell_type": "code",
      "metadata": {
        "id": "bPMexop-_-LK"
      },
      "source": [
        "#Union function\n",
        "def Union_original(lst1, lst2):\n",
        "  if (type(lst1) == str):\n",
        "    lst = [lst1] + [lst2]\n",
        "  else:\n",
        "    lst = lst1 + lst2\n",
        "  return list(set(lst))"
      ],
      "execution_count": null,
      "outputs": []
    },
    {
      "cell_type": "code",
      "metadata": {
        "id": "wAjhOIre__Xv"
      },
      "source": [
        "#Intersection function\n",
        "def Intersection( lst1, lst2 ):\n",
        "    return [value for value in lst1 if value in lst2]"
      ],
      "execution_count": null,
      "outputs": []
    },
    {
      "cell_type": "code",
      "metadata": {
        "id": "dcJDgG69AAfY"
      },
      "source": [
        "#Eclat function\n",
        "def Eclat(P, minsup, F):\n",
        "  index_a = 1\n",
        "  for Xa, tXa in P.items():\n",
        "    index_b = 0\n",
        "    F.append([(Xa), tXa, len(tXa)])\n",
        "    Pa = {}\n",
        "    for Xb, tXb in P.items():\n",
        "      index_b += 1\n",
        "      if (index_b > index_a):\n",
        "        Xab = Union_original(Xa,Xb)\n",
        "        tXab = Intersection(tXa, tXb)\n",
        "        if (len(tXab) > minsup):\n",
        "          Pa[tuple(Xab)] = tXab\n",
        "    index_a += 1\n",
        "    if (len(Pa) != 0):\n",
        "      Eclat(Pa, minsup, F)\n",
        "  return F"
      ],
      "execution_count": null,
      "outputs": []
    },
    {
      "cell_type": "code",
      "metadata": {
        "id": "bKMc70fIABoR"
      },
      "source": [
        "F = [] #Initial F\n",
        "minsup = 2 #Initial minsup\n",
        "Associate_Itemset = Eclat(P,minsup,F)"
      ],
      "execution_count": null,
      "outputs": []
    },
    {
      "cell_type": "code",
      "metadata": {
        "id": "50aRlZm0ADXu"
      },
      "source": [
        "#Print result\n",
        "Associate_Itemset"
      ],
      "execution_count": null,
      "outputs": []
    },
    {
      "cell_type": "code",
      "metadata": {
        "id": "lQ1tBPenAEs-"
      },
      "source": [
        "#Print last result \n",
        "Associate_Itemset[50:]"
      ],
      "execution_count": null,
      "outputs": []
    },
    {
      "cell_type": "markdown",
      "metadata": {
        "id": "habUNLbAAIvY"
      },
      "source": [
        "## **2. Implement the crawling task**"
      ]
    },
    {
      "cell_type": "markdown",
      "metadata": {
        "id": "rJ1SlhLWHdIn"
      },
      "source": [
        "### Crawling data"
      ]
    },
    {
      "cell_type": "markdown",
      "metadata": {
        "id": "g4n5-uWtBpm2"
      },
      "source": [
        "Hàm **scrape_stock_symbols** dùng để crawl dữ liệu từ trang web cafef.vn. 3 thông số truyền vào bao gồm:\n",
        "  - name: tên doanh nghiệp\n",
        "  - category: loại kết quả hoạt động kinh doanh của doanh nghiệp đó\n",
        "  - year: năm cần crawl để lấy dữ liệu\n",
        "Các dữ liệu cần crawl bao gồm các quý trong năm cần lấy sẽ được thêm vào list **quarter** và các thông số dữ liệu của năm đó sẽ được thêm vào list **data**."
      ]
    },
    {
      "cell_type": "code",
      "metadata": {
        "id": "DPJ3zJFbAc1S"
      },
      "source": [
        "def scrape_stock_symbols(name, category, year):\n",
        "    URL = 'https://s.cafef.vn/bao-cao-tai-chinh/'+name+'/'+category+'/'+year+'/4/0/0/ket-qua-hoat-dong-kinh-doanh-cong-ty-co-phan-tap-doan-hoa-phat.chn'\n",
        "    soup = BeautifulSoup(requests.get(URL).text, 'html.parser')\n",
        "    strQuarter = soup.find_all('table', attrs={'id':'tblGridData'})\n",
        "    strData = soup.find_all('table', attrs={'id':'tableContent'})\n",
        "  \n",
        "    for i in strQuarter:\n",
        "        cols = i.find_all('td', attrs={'class':'h_t'})\n",
        "        cols = [ele.text.strip() for ele in cols]\n",
        "        quarter.append([ele for ele in cols if ele])\n",
        "      \n",
        "    for i in strData:\n",
        "        cols = i.find_all('td', attrs={'class':'b_r_c'})\n",
        "        cols = [ele.text.strip() for ele in cols]\n",
        "        data.append([ele for ele in cols if ele])\n",
        "      \n",
        "    return (quarter, data)"
      ],
      "execution_count": null,
      "outputs": []
    },
    {
      "cell_type": "markdown",
      "metadata": {
        "id": "fFEsYc59C6OY"
      },
      "source": [
        "Hàm **data_to_csv** sẽ được dùng để chuyển đổi kết quả sang file csv. Thông số dữ liệu truyền vào bao gồm:\n",
        "  - quarter: các quý trong năm cần crawl\n",
        "  - data: dữ liệu kết quả kinh doanh\n",
        "  - year: năm cần crawl\n",
        "  - path: đường dẫn chưa file dữ liệu sau khi xử lý\n",
        "  - name: tên doanh nghiệp\n",
        "  - category: loại kết quả hoạt động kinh doanh"
      ]
    },
    {
      "cell_type": "code",
      "metadata": {
        "id": "TPv1UTU9AeSv"
      },
      "source": [
        "def data_to_csv(quarter, data, year, path, name, category):\n",
        "    quarter_len = 4\n",
        "    if (year == '2021'):\n",
        "        quarter_len = 3\n",
        "    data_output = []\n",
        "    data_row = []\n",
        "    for i in data[0]:\n",
        "        if ' ' in i:\n",
        "          if len(data_row) > 2:\n",
        "              data_output.append(data_row)\n",
        "          data_row = []\n",
        "          data_row.append(i)\n",
        "        else:\n",
        "            data_row.append(i)\n",
        "    with open(path + name + '-' + category + '-' + year + '.csv', 'w+', newline='', encoding='utf-8') as file:\n",
        "        writer = csv.writer(file)\n",
        "        writer.writerow(list(['Thông số']) + quarter[0][:quarter_len])\n",
        "        for i in data_output:\n",
        "            writer.writerow(i)"
      ],
      "execution_count": null,
      "outputs": []
    },
    {
      "cell_type": "markdown",
      "metadata": {
        "id": "MhSY-rfjD8kX"
      },
      "source": [
        "Để lấy được dữ liệu, người dùng cần truyền vào khoảng thời gian cần lấy dữ liệu bao gồm năm bắt đầu và năm kết thúc lần lượt qua các biến **startYear** và **endYear**.\n",
        "\n",
        "List **report** để chức các kết quả mà người dùng cần crawl. Trong đề tài này, chúng em cần crawl dữ liệu từ trang **Kết quả hoạt động kinh doanh** và **Cân đối kế toán** nên thông số truyền vào sẽ là **IncSta** và **BSheet**.\n",
        "**name** là tên doanh nghiệp\n",
        "\n",
        "Ví dụ:\n",
        "https://s.cafef.vn/bao-cao-tai-chinh/HPG/IncSta/2021/4/0/0/ket-qua-hoat-dong-kinh-doanh-cong-ty-co-phan-tap-doan-hoa-phat.chn sẽ lấy kết quả hoạt động kinh doanh từ doanh nghiệp HPG trong năm 2021.\n",
        "\n",
        "Sau khi có dữ liệu bao gồm tên doanh nghiệp, thể loại kết quả và năm thì dữ liệu sẽ được gửi đến các hàm **scarpe_stock_symbols** và **data_to_csv** để xử lý và in ra kết quả.\n"
      ]
    },
    {
      "cell_type": "code",
      "metadata": {
        "colab": {
          "base_uri": "https://localhost:8080/"
        },
        "id": "0cLZchOoAgAm",
        "outputId": "fdda9322-deaf-4936-8312-511e2bd34119"
      },
      "source": [
        "startYear = 2018\n",
        "endYear = 2021\n",
        "\n",
        "report = ['IncSta' , 'BSheet']\n",
        "name = 'HPG'\n",
        "\n",
        "for category in report:\n",
        "    if (category == 'IncSta'):\n",
        "        output_path = 'Họat động kinh doanh/'\n",
        "    else:\n",
        "        output_path = 'Cân đối kế toán/'\n",
        "    if not os.path.exists(output_path):\n",
        "        os.makedirs(output_path)\n",
        "    for year in range(startYear, endYear+1):\n",
        "        quarter = []\n",
        "        data = []\n",
        "        (quarter, data) = scrape_stock_symbols(name, category, str(year))\n",
        "        data_to_csv(quarter, data, str(year), output_path, name, category)\n",
        "print('Done!')"
      ],
      "execution_count": null,
      "outputs": [
        {
          "output_type": "stream",
          "name": "stdout",
          "text": [
            "Done!\n"
          ]
        }
      ]
    },
    {
      "cell_type": "markdown",
      "metadata": {
        "id": "IVdBnKs3HnZf"
      },
      "source": [
        "### Visualize"
      ]
    },
    {
      "cell_type": "code",
      "metadata": {
        "id": "ZRFyoDznAzsL"
      },
      "source": [
        "#Đọc dữ liệu từ các file cần visualize\n",
        "hdkd_2018 = pd.read_csv('/content/Họat động kinh doanh/HPG-IncSta-2018.csv', header=0)\n",
        "hdkd_2019 = pd.read_csv('/content/Họat động kinh doanh/HPG-IncSta-2019.csv', header=0)\n",
        "hdkd_2020 = pd.read_csv('/content/Họat động kinh doanh/HPG-IncSta-2020.csv', header=0)\n",
        "hdkd_2021 = pd.read_csv('/content/Họat động kinh doanh/HPG-IncSta-2021.csv', header=0)"
      ],
      "execution_count": null,
      "outputs": []
    },
    {
      "cell_type": "code",
      "metadata": {
        "id": "9qh2I3yTA1M1"
      },
      "source": [
        "hdkd_2020.drop(index=hdkd_2020.index[8], axis=0, inplace=True)\n",
        "hdkd_2021.drop(index=hdkd_2021.index[8], axis=0, inplace=True)"
      ],
      "execution_count": null,
      "outputs": []
    },
    {
      "cell_type": "code",
      "metadata": {
        "id": "18eXm21nA9HH"
      },
      "source": [
        "# Lấy dữ liệu từ Doanh thu bán hàng và cung cấp dịch vụ\n",
        "rev2018 = hdkd_2018[0:].iloc[0][1:]\n",
        "rev2019 = hdkd_2019[0:].iloc[0][1:]\n",
        "rev2020 = hdkd_2020[0:].iloc[0][1:]\n",
        "rev2021 = hdkd_2021[0:].iloc[0][1:]\n",
        "\n",
        "# Lấy dữ liệu từ Lợi nhuận sau thuế thu nhập doanh nghiệp\n",
        "pro2018 = hdkd_2018[1:].iloc[16][1:]\n",
        "pro2019 = hdkd_2019[1:].iloc[16][1:]\n",
        "pro2020 = hdkd_2020[1:].iloc[16][1:]\n",
        "pro2021 = hdkd_2021[1:].iloc[16][1:]\n",
        "\n",
        "#pro dùng để hợp nhất các dữ liệu lợi nhuận của các năm\n",
        "pro = [pro2018,pro2019,pro2020,pro2021]\n",
        "pro = pd.concat(pro)\n",
        "\n",
        "#rev dùng để hợp nhất các dữ liệu doanh thu của các năm\n",
        "rev = [rev2018,rev2019,rev2020,rev2021]\n",
        "rev = pd.concat(rev)"
      ],
      "execution_count": null,
      "outputs": []
    },
    {
      "cell_type": "code",
      "metadata": {
        "id": "c7ha2Xd0A-bz"
      },
      "source": [
        "pro_values = []\n",
        "for i in pro.values:\n",
        "  new = i.replace(',', '')\n",
        "  pro_values.append(int(new))\n",
        "  \n",
        "rev_values = []\n",
        "for i in rev.values:\n",
        "  new = i.replace(',', '')\n",
        "  rev_values.append(int(new))"
      ],
      "execution_count": null,
      "outputs": []
    },
    {
      "cell_type": "code",
      "metadata": {
        "colab": {
          "base_uri": "https://localhost:8080/",
          "height": 647
        },
        "id": "N7URZE3eA_1M",
        "outputId": "d6d41f6d-f334-4f1d-8a27-efe86c6d6cc9"
      },
      "source": [
        "plt.figure(figsize=(20, 10))\n",
        "plt.bar(rev.keys(),rev_values)\n",
        "plt.legend(['Revenue'],loc=2)\n",
        "plt.twinx()\n",
        "plt.plot(pro.keys(), pro_values, color='y', marker='o')\n",
        "plt.legend(['Profit'],loc=1)\n",
        "plt.title('KẾT QUẢ HOẠT ĐỘNG KINH DOANH\\n(Đvị:tỷ đồng)')\n",
        "plt.show()"
      ],
      "execution_count": null,
      "outputs": [
        {
          "output_type": "display_data",
          "data": {
            "image/png": "[encoded data removed]",
            "text/plain": [
              "<Figure size 1440x720 with 2 Axes>"
            ]
          },
          "metadata": {
            "needs_background": "light"
          }
        }
      ]
    },
    {
      "cell_type": "markdown",
      "metadata": {
        "id": "GStxEUj3LFL3"
      },
      "source": [
        "## **3. Implement the crawling task**"
      ]
    },
    {
      "cell_type": "markdown",
      "metadata": {
        "id": "IxzSoeXOLTYJ"
      },
      "source": [
        "### Visualize"
      ]
    },
    {
      "cell_type": "code",
      "metadata": {
        "colab": {
          "base_uri": "https://localhost:8080/"
        },
        "id": "TECTJg6sLh2N",
        "outputId": "91288804-4238-4b5e-aa47-918cd894e5bc"
      },
      "source": [
        "cdkt_2021 = pd.read_csv('/content/Cân đối kế toán/HPG-BSheet-2021.csv', error_bad_lines=False)\n",
        "cdkt_2020 = pd.read_csv('/content/Cân đối kế toán/HPG-BSheet-2020.csv', error_bad_lines=False)\n",
        "cdkt_2019 = pd.read_csv('/content/Cân đối kế toán/HPG-BSheet-2019.csv', error_bad_lines=False)\n",
        "cdkt_2018 = pd.read_csv('/content/Cân đối kế toán/HPG-BSheet-2018.csv', error_bad_lines=False)"
      ],
      "execution_count": null,
      "outputs": [
        {
          "output_type": "stream",
          "name": "stderr",
          "text": [
            "b'Skipping line 3: expected 4 fields, saw 8\\n'\n",
            "b'Skipping line 3: expected 5 fields, saw 10\\n'\n",
            "b'Skipping line 3: expected 5 fields, saw 10\\n'\n",
            "b'Skipping line 3: expected 5 fields, saw 10\\n'\n"
          ]
        }
      ]
    },
    {
      "cell_type": "code",
      "metadata": {
        "id": "OXUNMVa8Llkv"
      },
      "source": [
        "#Lấy dữ liệu TÀI SẢN NGẮN HẠN\n",
        "tsnh2018 = cdkt_2018[0:].iloc[0][1:]\n",
        "tsnh2019 = cdkt_2019[0:].iloc[0][1:]\n",
        "tsnh2020 = cdkt_2020[0:].iloc[0][1:]\n",
        "tsnh2021 = cdkt_2021[0:].iloc[0][1:]\n",
        "\n",
        "#Lấy dữ liệu Tài sản cố định\n",
        "tscd2018 = cdkt_2018[1:].iloc[21][1:]\n",
        "tscd2019 = cdkt_2019[1:].iloc[21][1:]\n",
        "tscd2020 = cdkt_2020[1:].iloc[21][1:]\n",
        "tscd2021 = cdkt_2021[1:].iloc[21][1:]\n",
        "\n",
        "#Lấy dữ liệu Phải thu về cho vay dài hạn\n",
        "ktdh2018 = cdkt_2018[0:].iloc[19][1:]\n",
        "ktdh2019 = cdkt_2019[0:].iloc[19][1:]\n",
        "ktdh2020 = cdkt_2020[0:].iloc[19][1:]\n",
        "ktdh2021 = cdkt_2021[0:].iloc[19][1:]\n",
        "\n",
        "#Lấy dữ liệu Chi phí sản xuất, kinh doanh dở dang dài hạn\n",
        "ttnhl2018 = cdkt_2018[0:].iloc[32][1:]\n",
        "ttnhl2019 = cdkt_2019[0:].iloc[32][1:]\n",
        "ttnhl2020 = cdkt_2020[0:].iloc[32][1:]\n",
        "ttnhl2021 = cdkt_2021[0:].iloc[32][1:]\n",
        "\n",
        "#tsnh dùng để hợp nhất các dữ liệu TÀI SẢN NGẮN HẠN\n",
        "tsnh = [tsnh2018,tsnh2019,tsnh2020,tsnh2021]\n",
        "tsnh = pd.concat(tsnh)\n",
        "\n",
        "#tscd dùng để hợp nhất các dữ liệu Tài sản cố định\n",
        "tscd = [tscd2018,tscd2019,tscd2020,tscd2021]\n",
        "tscd = pd.concat(tscd)\n",
        "\n",
        "#ktdh dùng để hợp nhất các dữ liệu Phải thu về cho vay dài hạn\n",
        "ktdh = [ktdh2018,ktdh2019,ktdh2020,ktdh2021]\n",
        "ktdh = pd.concat(ktdh)\n",
        "\n",
        "#ttnhl dùng để hợp nhất các dữ liệu Chi phí sản xuất, kinh doanh dở dang dài hạn\n",
        "ttnhl = [ttnhl2018,ttnhl2019,ttnhl2020,ttnhl2021]\n",
        "ttnhl = pd.concat(ttnhl)"
      ],
      "execution_count": null,
      "outputs": []
    },
    {
      "cell_type": "code",
      "metadata": {
        "id": "KQZCARq8MZ94"
      },
      "source": [
        "tsnh_values = []\n",
        "for i in tsnh.values:\n",
        "  new = i.replace(',', '')\n",
        "  tsnh_values.append(int(new))\n",
        "  \n",
        "tscd_values = []\n",
        "for i in tscd.values:\n",
        "  new = i.replace(',', '')\n",
        "  tscd_values.append(int(new))\n",
        "\n",
        "ktdh_values = []\n",
        "for i in ktdh.values:\n",
        "  new = i.replace(',', '')\n",
        "  ktdh_values.append(int(new))\n",
        "  \n",
        "ttnhl_values = []\n",
        "for i in ttnhl.values:\n",
        "  new = i.replace(',', '')\n",
        "  ttnhl_values.append(int(new))"
      ],
      "execution_count": null,
      "outputs": []
    },
    {
      "cell_type": "code",
      "metadata": {
        "colab": {
          "base_uri": "https://localhost:8080/",
          "height": 539
        },
        "id": "8lG-HaGTLpsr",
        "outputId": "98b7e606-3bce-4f37-c00f-c1d88c650a40"
      },
      "source": [
        "plt.figure(figsize=(20, 10))\n",
        "plt.bar(tsnh.keys(),tsnh_values,color='r')\n",
        "plt.bar(tscd.keys(),tscd_values,color='b')\n",
        "plt.bar(ktdh.keys(),ktdh_values,color='y')\n",
        "plt.bar(ttnhl.keys(),ttnhl_values,color='m')\n",
        "plt.title('CƠ CẤU TỔNG TÀI SẢN')\n",
        "plt.legend(['TÀI SẢN NGẮN HẠN', 'Tài sản cố định','Phải thu về cho vay dài hạn','Chi phí sản xuất, kinh doanh dở dang dài hạn'])\n",
        "plt.show()"
      ],
      "execution_count": null,
      "outputs": [
        {
          "output_type": "display_data",
          "data": {
            "image/png": "[encoded data removed]",
            "text/plain": [
              "<Figure size 1440x720 with 1 Axes>"
            ]
          },
          "metadata": {
            "needs_background": "light"
          }
        }
      ]
    }
  ]
}